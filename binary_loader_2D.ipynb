{
 "cells": [
  {
   "cell_type": "code",
   "execution_count": 1,
   "metadata": {},
   "outputs": [
    {
     "name": "stdout",
     "output_type": "stream",
     "text": [
      "[[ 0  1  2  3]\n",
      " [ 4  5  6  7]\n",
      " [ 8  9 10 11]]\n",
      "[ 3  7 11]\n"
     ]
    },
    {
     "ename": "ValueError",
     "evalue": "operands could not be broadcast together with shapes (3,4) (3,) ",
     "output_type": "error",
     "traceback": [
      "\u001b[1;31m---------------------------------------------------------------------------\u001b[0m",
      "\u001b[1;31mValueError\u001b[0m                                Traceback (most recent call last)",
      "\u001b[1;32m<ipython-input-1-f4825aa7ba3c>\u001b[0m in \u001b[0;36m<module>\u001b[1;34m\u001b[0m\n\u001b[0;32m     10\u001b[0m \u001b[0mprint\u001b[0m\u001b[1;33m(\u001b[0m\u001b[0mAmaxT\u001b[0m\u001b[1;33m)\u001b[0m\u001b[1;33m\u001b[0m\u001b[1;33m\u001b[0m\u001b[0m\n\u001b[0;32m     11\u001b[0m \u001b[1;33m\u001b[0m\u001b[0m\n\u001b[1;32m---> 12\u001b[1;33m \u001b[0mprint\u001b[0m\u001b[1;33m(\u001b[0m\u001b[0mB\u001b[0m\u001b[1;33m/\u001b[0m\u001b[0mAmaxT\u001b[0m\u001b[1;33m)\u001b[0m\u001b[1;33m\u001b[0m\u001b[1;33m\u001b[0m\u001b[0m\n\u001b[0m",
      "\u001b[1;31mValueError\u001b[0m: operands could not be broadcast together with shapes (3,4) (3,) "
     ]
    }
   ],
   "source": [
    "import numpy as np\n",
    "\n",
    "A = np.arange(12).reshape(3,4)\n",
    "B = np.arange(12).reshape(3,4)\n",
    "print(A)\n",
    "\n",
    "Amax =np.max(A,axis=1)\n",
    "AmaxT = np.transpose(Amax)\n",
    "\n",
    "print(AmaxT)\n",
    "\n",
    "print(B/AmaxT)\n"
   ]
  },
  {
   "cell_type": "code",
   "execution_count": 15,
   "metadata": {
    "scrolled": true
   },
   "outputs": [
    {
     "name": "stdout",
     "output_type": "stream",
     "text": [
      "9.721135\n"
     ]
    },
    {
     "data": {
      "image/png": "[encoded data removed]",
      "text/plain": [
       "<Figure size 432x288 with 2 Axes>"
      ]
     },
     "metadata": {
      "needs_background": "light"
     },
     "output_type": "display_data"
    }
   ],
   "source": [
    "#%matplotlib nbagg\n",
    "%matplotlib inline\n",
    "\n",
    "\n",
    "import pandas as pd\n",
    "import time\n",
    "import struct\n",
    "import numpy as np\n",
    "import os\n",
    "import shutil\n",
    "import matplotlib.pyplot as plt\n",
    "import matplotlib.animation as animation\n",
    "from matplotlib.animation import ArtistAnimation\n",
    "import seaborn as sb\n",
    "import glob\n",
    "\n",
    "#■■バイナリ変換メソッド■■\n",
    "\n",
    "def csvoutput_u(uf,vf,wf,xmax,ymax,zmax):\n",
    "    #rbオプションは読み込みオンリー。書き込みたい場合には'wb'\n",
    "    u=open(uf,'rb').read()\n",
    "    #Structモジュールのunpack関数。第一引数はフォーマット。\n",
    "    #この場合は倍精度(ダブルのd)8バイトずつ読み込む。//8とはデータ全体を8で割った商を表す。第二因数はバッファー(データ))\n",
    "    ua=struct.unpack('d'*(len(u)//8),u)\n",
    "    #u(流れ方向)\n",
    "    ua_array=np.array([ua])\n",
    "    #ua_array.transpose()\n",
    "    ua_array=ua_array.reshape(ymax,xmax)\n",
    "    \n",
    "    return ua_array\n",
    "\n",
    "def csvoutput_v(uf,vf,wf,xmax,ymax,zmax):\n",
    "    #rbオプションは読み込みオンリー。書き込みたい場合には'wb'\n",
    "    v=open(vf,'rb').read()\n",
    "    #Structモジュールのunpack関数。第一引数はフォーマット。\n",
    "    #この場合は倍精度(ダブルのd)8バイトずつ読み込む。//8とはデータ全体を8で割った商を表す。第二因数はバッファー(データ))\n",
    "    va=struct.unpack('d'*(len(v)//8),v)\n",
    "    #ｖ(高さ方向)\n",
    "    va_array=np.array([va])\n",
    "    #va_array.transpose()\n",
    "    va_array=va_array.reshape(ymax,xmax)\n",
    "    \n",
    "    return va_array\n",
    "\n",
    "def csvoutput_w(uf,vf,wf,xmax,ymax,zmax):\n",
    "    #rbオプションは読み込みオンリー。書き込みたい場合には'wb'\n",
    "    w=open(wf,'rb').read()\n",
    "    #Structモジュールのunpack関数。第一引数はフォーマット。\n",
    "    wa=struct.unpack('d'*(len(w)//8),w)\n",
    "    #ｗ(幅方向)\n",
    "    wa_array=np.array([wa])\n",
    "    #wa_array.transpose()\n",
    "    wa_array=wa_array.reshape(ymax,xmax)\n",
    "\n",
    "    return wa_array\n",
    "\n",
    "#■■info.txtからxmaxなどの情報を取得■■    \n",
    "def infoReader(myPath):\n",
    "    #print(myPath + '/info.txt')\n",
    "    #with構文を使うことで、close処理を行わなくても済む。通常であれば\n",
    "\n",
    "    inf = open(myPath,mode = 'r')\n",
    "    text = inf.read()\n",
    "    data=text.split()\n",
    "    inf.close()\n",
    "    \n",
    "    return data\n",
    "\n",
    "\n",
    "#■■■■■■■■■■■■■■■■■■■■■■■■■■■■■■■■\n",
    "#■■■■■■■■■■■■■メインメソッド■■■■■■■■■■■■■\n",
    "#■■■■■■■■■■■■■■■■■■■■■■■■■■■■■■■■■\n",
    "\n",
    "if __name__=='__main__':\n",
    "    \n",
    "    CFD_data = 'G3.5test'\n",
    "    # 基板先頭位置(topEdge)を示すディレクトリパス、リスト\n",
    "    dataPath= glob.glob('./' + CFD_data + '/*')\n",
    "    #info.txt読み出しのためのファイルパスリスト\n",
    "    infoPath = glob.glob('./' + CFD_data + '/*/info.txt')\n",
    "    #info.txtから得る情報は、xmax,ymax,zmaxの格子情報だけなので、別にリストで得る必要はなし\n",
    "    pathInfo = infoPath[0]\n",
    "\n",
    "    #info.txtから必要な情報を読み出すinfoloader\n",
    "    #-----------------------------------------------------------------------------------------------------\n",
    "    #メッシュ数の情報をinfo.txtから読み出すため、各ディレクトリ内の最終ステップ名のフォルダパスをリスト\n",
    "    #info.txtからxmax,ymax,zmaxを読み出すが、これら情報は先頭位置に依存しないので最初のディレクトリから１回だけ読み出す\n",
    "    infoData = infoReader(pathInfo)\n",
    "    times = float(infoData[5])\n",
    "    xmax = int(infoData[7])\n",
    "    ymax = int(infoData[8])\n",
    "    zmax = int(infoData[9])\n",
    "    \n",
    "    \n",
    "    print (times)\n",
    "    #print(xmax,ymax,zmax)\n",
    "    \n",
    "    W = 0\n",
    "    L = 1.22\n",
    "    H = 0.4\n",
    "    \n",
    "    #節点間距離㎜　(xは搬送方向、yは高さ方向、zは幅方向)\n",
    "    dz = W / zmax\n",
    "    dx = L / xmax\n",
    "    dy = H / ymax\n",
    "    #---------------------------------------------------------------------------------------------------\n",
    "    \n",
    "    for i in range(len(dataPath)):\n",
    "        #u,v,w各速度成分データファイルへのファイルパスを取得\n",
    "        ufldPath = glob.glob('./' + CFD_data + '/*/ufld.raw')\n",
    "        vfldPath = glob.glob('./' + CFD_data + '/*/vfld.raw')\n",
    "        wfldPath = glob.glob('./' + CFD_data + '/*/wfld.raw')\n",
    "    \n",
    "        fa = csvoutput_u(ufldPath[i], vfldPath[i], wfldPath[i] , xmax , ymax , zmax )\n",
    "        fav = csvoutput_v(ufldPath[i], vfldPath[i], wfldPath[i] , xmax , ymax , zmax )\n",
    "        faw = csvoutput_w(ufldPath[i], vfldPath[i], wfldPath[i] , xmax , ymax , zmax )\n",
    "\n",
    "        fasort = fa[::-1,::-1]\n",
    "        favsort =fav[::-1,::-1]\n",
    "        fawsort = faw[::-1,::-1]\n",
    "\n",
    "        \n",
    "        favelo = (fasort**2+favsort**2)**0.5\n",
    "        \n",
    "        #グラフの表示(ax1:搬送方向成分, ax2:基板直交成分)-------------------------------ｰｰｰｰｰｰｰｰ-ｰｰｰｰ--------------\n",
    "        \n",
    "        fig=plt.figure()\n",
    "        \n",
    "        #im1 = plt.pcolormesh(etchAmountWhole, interpolation='none',cmap='RdBu')\n",
    "        im1 = plt.pcolormesh(fasort, cmap = 'RdBu')\n",
    "        fig.colorbar(im1)\n",
    "        plt.pause(0.1)\n",
    "        \n",
    "         #切り出したuva_arrayt_glassから任意の指定の小領域(タイル)毎の部分和を出力\n",
    "            \n",
    "        os.mkdir('./'+ str(CFD_data) + '_' + 'rslt')\n",
    "        np.savetxt('./' + str(CFD_data) +'_' + 'rslt/' + str(CFD_data) + '_' + 'u.csv',fasort,delimiter = ',')\n",
    "        np.savetxt('./' + str(CFD_data) +'_' + 'rslt/' + str(CFD_data) + '_' + 'w.csv',fawsort,delimiter = ',')\n",
    "        np.savetxt('./' + str(CFD_data) +'_' + 'rslt/' + str(CFD_data) + '_' + 'v.csv',favsort,delimiter = ',')\n",
    "        np.savetxt('./' + str(CFD_data) +'_' + 'rslt/' + str(CFD_data) + '_' + 'Velo.csv',favelo,delimiter = ',')"
   ]
  },
  {
   "cell_type": "code",
   "execution_count": null,
   "metadata": {},
   "outputs": [],
   "source": []
  },
  {
   "cell_type": "code",
   "execution_count": null,
   "metadata": {},
   "outputs": [],
   "source": []
  }
 ],
 "metadata": {
  "celltoolbar": "Raw Cell Format",
  "kernelspec": {
   "display_name": "Python 3",
   "language": "python",
   "name": "python3"
  },
  "widgets": {
   "application/vnd.jupyter.widget-state+json": {
    "state": {},
    "version_major": 2,
    "version_minor": 0
   }
  }
 },
 "nbformat": 4,
 "nbformat_minor": 2
}
